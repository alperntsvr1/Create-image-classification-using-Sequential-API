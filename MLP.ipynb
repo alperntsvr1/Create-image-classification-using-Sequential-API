{
 "cells": [
  {
   "cell_type": "code",
   "execution_count": null,
   "id": "8bb470d4-af29-4f62-9fa6-de7307ba5241",
   "metadata": {},
   "outputs": [],
   "source": [
    "import tensorflow as tf\n",
    "import keras as kr\n",
    "import numpy as np\n",
    "import pandas as pd\n",
    "import matplotlib.pyplot as plt"
   ]
  },
  {
   "cell_type": "code",
   "execution_count": null,
   "id": "aea6e808-5ca6-489b-bb87-52bbccbb2841",
   "metadata": {},
   "outputs": [],
   "source": [
    "#DATA SET"
   ]
  },
  {
   "cell_type": "code",
   "execution_count": null,
   "id": "e1ccff6d-c7b4-4626-bf9f-f05ee8c89e9f",
   "metadata": {},
   "outputs": [],
   "source": [
    "fashion_mnist=kr.datasets.fashion_mnist\n",
    "(X_train_full, y_train_full) , (X_test,y_test)= fashion_mnist.load_data()"
   ]
  },
  {
   "cell_type": "code",
   "execution_count": null,
   "id": "cd0b7d1d-4c4a-46af-b7ab-dbaebedf317e",
   "metadata": {},
   "outputs": [],
   "source": [
    "X_valid,X_train = X_train_full[:5000]/255.0 , X_train_full[5000:]/255.0\n",
    "y_valid, y_train = y_train_full[:5000] , y_train_full[5000:]\n",
    "X_test= X_test/255.0"
   ]
  },
  {
   "cell_type": "code",
   "execution_count": null,
   "id": "06da9b9a-41ba-4123-a993-b9b064ae9f4b",
   "metadata": {},
   "outputs": [],
   "source": [
    "class_names = [\n",
    "    'T-shirt/top', 'Trouser', 'Pullover', 'Dress', 'Coat', \n",
    "    'Sandal', 'Shirt', 'Sneaker', 'Bag', 'Ankle boot'\n",
    "]\n"
   ]
  },
  {
   "cell_type": "code",
   "execution_count": null,
   "id": "a81ac3e9-2e98-458d-aa7b-33d482c02842",
   "metadata": {},
   "outputs": [],
   "source": [
    "model = tf.keras.models.Sequential([\n",
    "    tf.keras.layers.Flatten(input_shape=[28, 28]),\n",
    "    tf.keras.layers.Dense(300, activation=\"relu\"),\n",
    "    tf.keras.layers.Dense(100, activation=\"relu\"),\n",
    "    tf.keras.layers.Dense(10, activation=\"softmax\")\n",
    "])"
   ]
  },
  {
   "cell_type": "code",
   "execution_count": null,
   "id": "f0592171-2f54-414d-a6df-bbf6afa436b8",
   "metadata": {},
   "outputs": [],
   "source": [
    "plot_model(model, to_file='model.png', show_shapes=True, show_layer_names=True)"
   ]
  },
  {
   "cell_type": "code",
   "execution_count": null,
   "id": "45ac7365-92ef-4bff-8d01-c1e33067e506",
   "metadata": {},
   "outputs": [],
   "source": [
    "hidden1= model.layers[1]\n",
    "hidden1.name\n",
    "model.get_layer('dense') is hidden1\n",
    "weights, biases=hidden1.get_weights()"
   ]
  },
  {
   "cell_type": "code",
   "execution_count": null,
   "id": "5b84f5f8-2a33-46d3-a416-1528b90cd1ec",
   "metadata": {},
   "outputs": [],
   "source": [
    "#TRAİN"
   ]
  },
  {
   "cell_type": "code",
   "execution_count": null,
   "id": "4762b5f1-62af-424e-9d16-69498600cc38",
   "metadata": {},
   "outputs": [],
   "source": [
    "model.compile(loss=\"sparse_categorical_crossentropy\",\n",
    "              optimizer=\"sgd\",\n",
    "              metrics=[\"accuracy\"])\n",
    "history= model.fit(X_train, y_train, epochs=30,\n",
    "                   validation_data=(X_valid,y_valid))"
   ]
  },
  {
   "cell_type": "code",
   "execution_count": null,
   "id": "a29d009c-5352-4565-a34e-0390c8a97541",
   "metadata": {},
   "outputs": [],
   "source": [
    "pd.DataFrame(history.history).plot(figsize=(8,5))\n",
    "plt.grid(True)\n",
    "plt.gca().set_ylim(0,1)\n",
    "plt.show()"
   ]
  },
  {
   "cell_type": "code",
   "execution_count": null,
   "id": "aa4cf723-3a38-4648-a2d2-a59d3d0a8c03",
   "metadata": {},
   "outputs": [],
   "source": [
    "model.evaluate(X_test , y_test)"
   ]
  },
  {
   "cell_type": "code",
   "execution_count": null,
   "id": "d72efbaa-2794-4b32-b9ac-04da684d4d75",
   "metadata": {},
   "outputs": [],
   "source": [
    "X_new = X_test[:3]  # İlk 3 test örneği\n",
    "y_proba = model.predict(X_new)  # Olasılıkları tahmin et\n",
    "y_pred = np.argmax(y_proba, axis=-1)  # En yüksek olasılığı seç\n",
    "\n",
    "print(\"Tahminler (sınıf adları):\", [y_pred])\n",
    "print(\"Gerçek etiketler (sınıf adları):\", [class_names[i] for i in y_test[:3]])"
   ]
  }
 ],
 "metadata": {
  "kernelspec": {
   "display_name": "Python 3 (ipykernel)",
   "language": "python",
   "name": "python3"
  },
  "language_info": {
   "codemirror_mode": {
    "name": "ipython",
    "version": 3
   },
   "file_extension": ".py",
   "mimetype": "text/x-python",
   "name": "python",
   "nbconvert_exporter": "python",
   "pygments_lexer": "ipython3",
   "version": "3.8.19"
  }
 },
 "nbformat": 4,
 "nbformat_minor": 5
}
